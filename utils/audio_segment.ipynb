{
 "cells": [
  {
   "cell_type": "code",
   "execution_count": 1,
   "id": "a023eecd-5499-4ced-bb7c-586e9fee18bd",
   "metadata": {
    "pycharm": {
     "name": "#%%\n"
    }
   },
   "outputs": [],
   "source": [
    "import os\n",
    "import shutil\n",
    "from datetime import datetime\n",
    "import re\n",
    "from pydub import AudioSegment"
   ]
  },
  {
   "cell_type": "code",
   "execution_count": 5,
   "id": "ed853943-e034-4e12-ab5e-3b2386a50e6e",
   "metadata": {
    "pycharm": {
     "name": "#%%\n"
    }
   },
   "outputs": [],
   "source": [
    "\n",
    "\n",
    "def load_start_end_time(srt_file_path):\n",
    "    with open(srt_file_path, 'r') as file:\n",
    "        lines = file.readlines()\n",
    "\n",
    "    start_times = []\n",
    "    end_times = []\n",
    "    for line in lines:\n",
    "        if '-->' in line:\n",
    "            time_matches = re.findall(r'\\d{2}:\\d{2}:\\d{2},\\d{3}', line)\n",
    "            if len(time_matches) == 2:\n",
    "                start_times.append(time_matches[0])\n",
    "                end_times.append(time_matches[1])\n",
    "\n",
    "    return start_times, end_times\n",
    "\n",
    "def get_milliseconds(time_str):\n",
    "    h, m, s = map(float, time_str.replace(',', '.').split(':'))\n",
    "    #add 1 second to match the audio\n",
    "    return int((h * 3600 + m * 60 + s+1) * 1000)\n",
    "\n",
    "\n"
   ]
  },
  {
   "cell_type": "code",
   "execution_count": 6,
   "id": "c8a2f8dd-aa4b-445e-af24-7dc504aab3f7",
   "metadata": {
    "pycharm": {
     "name": "#%%\n"
    }
   },
   "outputs": [],
   "source": [
    "\n",
    "def split_audio(audio_path, srt_file_path):\n",
    "    # Load start and end times\n",
    "    start_times, end_times = load_start_end_time(srt_file_path)\n",
    "\n",
    "    # Load the audio file\n",
    "    audio = AudioSegment.from_file(audio_path)\n",
    "\n",
    "    for i, (start, end) in enumerate(zip(start_times, end_times)):\n",
    "      \n",
    "        start_ms = get_milliseconds(start)\n",
    "        end_ms = get_milliseconds(end)\n",
    "       \n",
    "        segment = audio[start_ms:end_ms]\n",
    "        segment.export(f\"segment_{i+1}_{start.replace(':', '-')}_{end.replace(':', '-')}.mp3\", format=\"mp3\")\n",
    "\n",
    "# # Example usage\n",
    "split_audio(\"skyfall/Skyfall.mp3\", \"Skyfall.srt\")"
   ]
  },
  {
   "cell_type": "code",
   "execution_count": null,
   "id": "eb2aa6de-7d56-4ee3-9559-80eb9d8d917b",
   "metadata": {
    "pycharm": {
     "name": "#%%\n"
    }
   },
   "outputs": [],
   "source": []
  }
 ],
 "metadata": {
  "kernelspec": {
   "display_name": "Python 3 (ipykernel)",
   "language": "python",
   "name": "python3"
  },
  "language_info": {
   "codemirror_mode": {
    "name": "ipython",
    "version": 3
   },
   "file_extension": ".py",
   "mimetype": "text/x-python",
   "name": "python",
   "nbconvert_exporter": "python",
   "pygments_lexer": "ipython3",
   "version": "3.9.12"
  }
 },
 "nbformat": 4,
 "nbformat_minor": 5
}