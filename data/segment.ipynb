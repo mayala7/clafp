{
 "cells": [
  {
   "cell_type": "code",
   "execution_count": 1,
   "id": "a023eecd-5499-4ced-bb7c-586e9fee18bd",
   "metadata": {},
   "outputs": [],
   "source": [
    "import re"
   ]
  },
  {
   "cell_type": "code",
   "execution_count": 2,
   "id": "66638cc9",
   "metadata": {},
   "outputs": [],
   "source": [
    "with open(\"Green Book.srt\", \"r\") as f:\n",
    "    lines = f.readlines()\n",
    "    lines = [line.strip() for line in lines]\n",
    "segments = []\n",
    "for line in lines:\n",
    "    if '-->' in line:\n",
    "        time_matches = re.findall(r'\\d{2}:\\d{2}:\\d{2},\\d{3}', line)\n",
    "        if len(time_matches) == 2:\n",
    "            h1, m1, s1 = map(float, time_matches[0].replace(',', '.').split(':'))\n",
    "            start_time = h1 * 3600.0 + m1 * 60.0 + s1 - 1.50\n",
    "            h2, m2, s2 = map(float, time_matches[1].replace(',', '.').split(':'))\n",
    "            end_time = h2 * 3600.0 + m2 * 60.0 + s2 - 1.50\n",
    "            segments.append((start_time, end_time))"
   ]
  },
  {
   "cell_type": "code",
   "execution_count": 3,
   "id": "32028af0",
   "metadata": {},
   "outputs": [],
   "source": [
    "# load greenbook_01.wav to greenbook_19.wav and concatenate them into numpy array\n",
    "import soundfile as sf\n",
    "import numpy as np\n",
    "\n",
    "filenames = [\"green_book/greenbook_{:02d}.wav\".format(i) for i in range(1, 20)]\n",
    "concatenated_audio = []\n",
    "\n",
    "for filename in filenames:\n",
    "    audio, samplerate = sf.read(filename)\n",
    "    concatenated_audio.append(audio)\n",
    "\n",
    "concatenated_audio = np.concatenate(concatenated_audio)\n"
   ]
  },
  {
   "cell_type": "code",
   "execution_count": 4,
   "id": "6fe357d3",
   "metadata": {},
   "outputs": [],
   "source": [
    "audio_segments = []\n",
    "for segment in segments:\n",
    "    start_time, end_time = segment\n",
    "    start_index = int(start_time * samplerate)\n",
    "    end_index = int(end_time * samplerate)\n",
    "    audio_segment = concatenated_audio[start_index:end_index]\n",
    "    audio_segments.append(audio_segment)    "
   ]
  },
  {
   "cell_type": "code",
   "execution_count": 5,
   "id": "a704aa8f",
   "metadata": {},
   "outputs": [],
   "source": [
    "seeg_contacts = np.load(\"seeg_contacts.npy\")\n",
    "seeg_sr = 1024.0\n",
    "seeg_segments = []\n",
    "for segment in segments:\n",
    "    start_time, end_time = segment\n",
    "    start_index = int(start_time * seeg_sr)\n",
    "    end_index = int(end_time * seeg_sr)\n",
    "    seeg_segment = seeg_contacts[:, start_index:end_index]\n",
    "    seeg_segments.append(seeg_segment)\n"
   ]
  },
  {
   "cell_type": "code",
   "execution_count": 6,
   "id": "9e12a67b",
   "metadata": {},
   "outputs": [],
   "source": [
    "np.save('data_segmented.npy', {'audio': audio_segments, 'seeg': seeg_segments})"
   ]
  }
 ],
 "metadata": {
  "kernelspec": {
   "display_name": "Python 3 (ipykernel)",
   "language": "python",
   "name": "python3"
  },
  "language_info": {
   "codemirror_mode": {
    "name": "ipython",
    "version": 3
   },
   "file_extension": ".py",
   "mimetype": "text/x-python",
   "name": "python",
   "nbconvert_exporter": "python",
   "pygments_lexer": "ipython3",
   "version": "3.10.13"
  }
 },
 "nbformat": 4,
 "nbformat_minor": 5
}
