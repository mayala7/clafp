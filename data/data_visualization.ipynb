{
 "cells": [
  {
   "cell_type": "code",
   "execution_count": 1,
   "metadata": {},
   "outputs": [],
   "source": [
    "import bz2\n",
    "import numpy as np\n",
    "import pickle\n",
    "import _pickle as cPickle\n"
   ]
  },
  {
   "cell_type": "code",
   "execution_count": 2,
   "metadata": {},
   "outputs": [],
   "source": [
    "event_file = \"e0006KR/2019-06-04_e0006KR_Events.pbz2\"\n",
    "data_event = bz2.BZ2File(event_file,\"rb\")\n",
    "data_event = cPickle.load(data_event)\n",
    "chapter_segments = []\n",
    "\n",
    "for i in range(len(data_event['signal'])):\n",
    "    if data_event['signal'][i][0] == 9:\n",
    "        start_time = data_event['signal'][i][1]\n",
    "    elif data_event['signal'][i][0] == 18:\n",
    "        end_time = data_event['signal'][i][1]\n",
    "        chapter_segments.append((start_time, end_time))"
   ]
  },
  {
   "cell_type": "code",
   "execution_count": 3,
   "metadata": {},
   "outputs": [],
   "source": [
    "# drop the last segment of chapter_segments\n",
    "chapter_segments = chapter_segments[:-1]"
   ]
  },
  {
   "cell_type": "code",
   "execution_count": 4,
   "metadata": {},
   "outputs": [],
   "source": [
    "contact_names = [\"LAH1\", \"LAH2\", \"LAH3\", \"LAH4\", \"LAH5\", \"LAH6\", \"LAH7\", \"LAH8\", \"LAH9\", \"LAH10\", \"LAH11\", \"LAH12\", \"LAH13\", \"LAH14\",\n",
    "                 \"LAMY1\", \"LAMY2\", \"LAMY3\", \"LAMY4\", \"LAMY5\", \"LAMY6\", \"LAMY7\", \"LAMY8\", \"LAMY9\", \"LAMY10\", \"LAMY11\", \"LAMY12\", \"LAMY13\", \"LAMY14\",\n",
    "                 \"LPH1\", \"LPH2\", \"LPH3\", \"LPH4\", \"LPH5\", \"LPH6\", \"LPH7\", \"LPH8\", \"LPH9\", \"LPH10\", \"LPH11\", \"LPH12\", \"LPH13\", \"LPH14\",\n",
    "                 \"RPH1\", \"RPH2\", \"RPH3\", \"RPH4\", \"RPH5\", \"RPH6\", \"RPH7\", \"RPH8\", \"RPH9\", \"RPH10\", \"RPH11\", \"RPH12\", \"RPH13\", \"RPH14\",\n",
    "                 \"RAMY1\", \"RAMY2\", \"RAMY3\", \"RAMY4\", \"RAMY5\", \"RAMY6\", \"RAMY7\", \"RAMY8\", \"RAMY9\", \"RAMY10\", \"RAMY11\", \"RAMY12\", \"RAMY13\", \"RAMY14\",\n",
    "                 \"RAH1\", \"RAH2\", \"RAH3\", \"RAH4\", \"RAH5\", \"RAH6\", \"RAH7\", \"RAH8\", \"RAH9\", \"RAH10\", \"RAH11\", \"RAH12\", \"RAH13\", \"RAH14\"]\n",
    "data_contacts = []\n",
    "for contact in contact_names:\n",
    "    #Load data\n",
    "    filename = f\"e0006KR/2019-06-04_e0006KR_{contact}.pbz2\"\n",
    "    data =bz2.BZ2File(filename,\"rb\")\n",
    "    data =cPickle.load(data)['signal']\n",
    "    # Extract data according to chapter segments and concatenate\n",
    "    data_contact = []\n",
    "    for segment in chapter_segments:\n",
    "        data_contact.append(data[segment[0]:segment[1]])\n",
    "    data_contact = np.concatenate(data_contact)\n",
    "    data_contacts.append(data_contact)\n",
    "data_contacts = np.array(data_contacts)"
   ]
  },
  {
   "cell_type": "code",
   "execution_count": 6,
   "metadata": {},
   "outputs": [],
   "source": [
    "np.save(\"seeg_contacts.npy\", data_contacts)\n",
    "np.savez_compressed(\"seeg_contacts.npz\", data_contacts=data_contacts)"
   ]
  }
 ],
 "metadata": {
  "kernelspec": {
   "display_name": "Python 3",
   "language": "python",
   "name": "python3"
  },
  "language_info": {
   "codemirror_mode": {
    "name": "ipython",
    "version": 3
   },
   "file_extension": ".py",
   "mimetype": "text/x-python",
   "name": "python",
   "nbconvert_exporter": "python",
   "pygments_lexer": "ipython3",
   "version": "3.10.13"
  }
 },
 "nbformat": 4,
 "nbformat_minor": 2
}
